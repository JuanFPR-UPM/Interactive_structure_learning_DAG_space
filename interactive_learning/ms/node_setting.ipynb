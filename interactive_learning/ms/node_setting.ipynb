{
 "cells": [
  {
   "cell_type": "code",
   "execution_count": 1,
   "metadata": {},
   "outputs": [],
   "source": [
    "import pandas as pd\n",
    "import numpy as np"
   ]
  },
  {
   "cell_type": "code",
   "execution_count": 20,
   "metadata": {},
   "outputs": [],
   "source": [
    "df = pd.read_csv(\"bupa.data\", sep=None, engine='python', na_values='?')\n",
    "# df = pd.read_csv(\"asia10K.csv\", sep=None, engine='python', na_values='?')\n",
    "\n",
    "index_constant = np.where(df.nunique() == 1)[0]\n",
    "constant_columns = [df.columns[i] for i in index_constant]\n",
    "df = df.drop(columns=constant_columns)\n",
    "df = df.dropna()\n",
    "cat_data = df.select_dtypes('object').astype('category')\n",
    "for c in cat_data:\n",
    "    df = df.assign(**{c: cat_data[c]})\n",
    "float_data = df.select_dtypes('number').astype('float64')\n",
    "for c in float_data:\n",
    "    df = df.assign(**{c: float_data[c]})"
   ]
  },
  {
   "cell_type": "code",
   "execution_count": 21,
   "metadata": {},
   "outputs": [],
   "source": [
    "import pybnesian as pbn\n",
    "# from tigramite.independence_tests.cmiknn_mixed import CMIknnMixed"
   ]
  },
  {
   "cell_type": "code",
   "execution_count": 22,
   "metadata": {},
   "outputs": [],
   "source": [
    "node_children_blacklist = []\n",
    "for source in df.columns:\n",
    "    for target in df.columns:\n",
    "        if source != target and df[target].dtype == 'category' and df[source].dtype == 'float64':\n",
    "            \n",
    "            node_children_blacklist.append(\n",
    "                [source, target])"
   ]
  },
  {
   "cell_type": "code",
   "execution_count": 23,
   "metadata": {},
   "outputs": [
    {
     "name": "stdout",
     "output_type": "stream",
     "text": [
      "✔  [████████████████████████████████████████] 100% [00m:01s] Finished PC!uless\n"
     ]
    }
   ],
   "source": [
    "mskcmi = pbn.MixedKMutualInformation(df=df, k=50, samples=10, scaling=\"min_max\",gamma_approx=True, adaptive_k=True)\n",
    "\n",
    "pdag = pbn.PC().estimate(hypot_test=mskcmi, allow_bidirected = False, arc_blacklist = node_children_blacklist, arc_whitelist = [], edge_blacklist = [], edge_whitelist = [], verbose = 1)"
   ]
  },
  {
   "cell_type": "code",
   "execution_count": 24,
   "metadata": {},
   "outputs": [
    {
     "data": {
      "text/plain": [
       "([('sgpt', 'sgot'),\n",
       "  ('gammagt', 'sgot'),\n",
       "  ('sgpt', 'gammagt'),\n",
       "  ('selector', 'gammagt')],\n",
       " [('sgpt', 'drinks'), ('mcv', 'drinks')])"
      ]
     },
     "execution_count": 24,
     "metadata": {},
     "output_type": "execute_result"
    }
   ],
   "source": [
    "pdag.arcs(), pdag.edges()"
   ]
  },
  {
   "cell_type": "code",
   "execution_count": 25,
   "metadata": {},
   "outputs": [
    {
     "data": {
      "text/plain": [
       "['mcv', 'alkphos', 'sgpt', 'drinks', 'selector', 'gammagt', 'sgot']"
      ]
     },
     "execution_count": 25,
     "metadata": {},
     "output_type": "execute_result"
    }
   ],
   "source": [
    "dag = pdag.to_approximate_dag()\n",
    "top_sort = dag.topological_sort()\n",
    "for col in df:\n",
    "    if df[col].dtype == 'category':\n",
    "        top_sort.remove(col)\n",
    "top_sort"
   ]
  },
  {
   "cell_type": "code",
   "execution_count": 26,
   "metadata": {},
   "outputs": [],
   "source": [
    "node_types = [(x_name, pbn.DiscreteFactorType(\n",
    "    )) if x.dtype == 'category' else (x_name, pbn.LinearGaussianCPDType()) for x_name, x in df.items()]\n",
    "spbn =  pbn.SemiparametricBN(nodes=df.columns, node_types=node_types)\n",
    "for n1, n2 in dag.arcs():\n",
    "    spbn.add_arc(n1, n2)\n",
    "score = pbn.CVLikelihood(df, k=5)\n",
    "\n",
    "op_set = pbn.ChangeNodeTypeSet()\n",
    "op_set.cache_scores(spbn, score)\n"
   ]
  },
  {
   "cell_type": "code",
   "execution_count": 27,
   "metadata": {},
   "outputs": [
    {
     "name": "stdout",
     "output_type": "stream",
     "text": [
      "['ChangeNodeType', 'selector', 'CKDEType', np.float64(301.30459090317436)]\n",
      "['ChangeNodeType', 'sgpt', 'CKDEType', np.float64(127.59542685397287)]\n",
      "['ChangeNodeType', 'gammagt', 'CKDEType', np.float64(88.26956040449636)]\n",
      "['ChangeNodeType', 'alkphos', 'CKDEType', np.float64(12.637694592526941)]\n",
      "['ChangeNodeType', 'drinks', 'CKDEType', np.float64(41.46302390029507)]\n"
     ]
    }
   ],
   "source": [
    "while top_sort:\n",
    "    lglk_checks = []\n",
    "    for n in top_sort:\n",
    "        check = True\n",
    "        for p in dag.parents(n):\n",
    "            if p in top_sort:\n",
    "                check = False\n",
    "        if check:\n",
    "            lglk_checks.append(n)\n",
    "\n",
    "        \n",
    "    delta = op_set.get_delta()\n",
    "    type_changes_ops_idx = np.nonzero([len(x) for x in delta])[0]\n",
    "    type_changes_ops = [['ChangeNodeType', spbn.nodes()[i], ('CKDEType' if str(spbn.node_type(spbn.nodes(\n",
    "    )[i])) == 'LinearGaussianFactor' else 'LinearGaussianCPDType'), delta[i][0]] for i in type_changes_ops_idx]\n",
    "\n",
    "    type_changes_ops = [x for x in type_changes_ops if x[1] in lglk_checks]\n",
    "\n",
    "    selected_op = max(type_changes_ops, key=lambda x: x[3])\n",
    "    if selected_op[3] < 0:\n",
    "        top_sort.remove(selected_op[1])\n",
    "        continue\n",
    "    op = pbn.ChangeNodeType(node=selected_op[1], node_type=getattr(\n",
    "                    pbn, selected_op[2])(), delta=selected_op[3])\n",
    "\n",
    "    op.apply(spbn)\n",
    "    op_set.update_scores(spbn, score, op.nodes_changed(spbn))\n",
    "    top_sort.remove(selected_op[1])\n",
    "    print(selected_op)"
   ]
  },
  {
   "cell_type": "code",
   "execution_count": 28,
   "metadata": {},
   "outputs": [
    {
     "name": "stdout",
     "output_type": "stream",
     "text": [
      "mcv LinearGaussianFactor\n",
      "alkphos CKDEFactor\n",
      "sgpt CKDEFactor\n",
      "sgot LinearGaussianFactor\n",
      "gammagt CKDEFactor\n",
      "drinks CKDEFactor\n",
      "selector CKDEFactor\n"
     ]
    }
   ],
   "source": [
    "for n in spbn.nodes():\n",
    "    print(n, spbn.node_type(n))"
   ]
  }
 ],
 "metadata": {
  "kernelspec": {
   "display_name": "ted",
   "language": "python",
   "name": "python3"
  },
  "language_info": {
   "codemirror_mode": {
    "name": "ipython",
    "version": 3
   },
   "file_extension": ".py",
   "mimetype": "text/x-python",
   "name": "python",
   "nbconvert_exporter": "python",
   "pygments_lexer": "ipython3",
   "version": "3.12.0"
  }
 },
 "nbformat": 4,
 "nbformat_minor": 4
}
